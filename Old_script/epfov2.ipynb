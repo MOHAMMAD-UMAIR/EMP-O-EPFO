{
 "cells": [
  {
   "cell_type": "code",
   "execution_count": 16,
   "metadata": {},
   "outputs": [],
   "source": [
    "from selenium import webdriver\n",
    "from selenium.webdriver.common.by import By\n",
    "from openpyxl import Workbook\n",
    "from openpyxl.styles import PatternFill\n",
    "from openpyxl.styles import Font\n",
    "from bs4 import BeautifulSoup\n",
    "from selenium.common.exceptions import NoSuchElementException\n",
    "import time\n",
    "import datetime\n",
    "import re\n",
    "import math"
   ]
  },
  {
   "cell_type": "code",
   "execution_count": 18,
   "metadata": {},
   "outputs": [
    {
     "name": "stdout",
     "output_type": "stream",
     "text": [
      "**** INITIALIZING DRIVER ****\n"
     ]
    }
   ],
   "source": [
    "DRIVER_PATH = r\"chromedriver\"\n",
    "print(\"**** INITIALIZING DRIVER ****\")\n",
    "driver = webdriver.Chrome(executable_path=DRIVER_PATH)\n",
    "url=\"https://unifiedportal-epfo.epfindia.gov.in/publicPortal/no-auth/misReport/home/loadEstSearchHome\"\n",
    "driver.get(url)\n",
    "time.sleep(3)"
   ]
  },
  {
   "cell_type": "code",
   "execution_count": 38,
   "metadata": {},
   "outputs": [
    {
     "data": {
      "text/plain": [
       "'3.141.0'"
      ]
     },
     "execution_count": 38,
     "metadata": {},
     "output_type": "execute_result"
    }
   ],
   "source": [
    "import selenium\n",
    "selenium.__version__"
   ]
  },
  {
   "cell_type": "code",
   "execution_count": 19,
   "metadata": {},
   "outputs": [],
   "source": [
    "COMPANY_NAME = input(\"Enter company name: \")\n",
    "\n",
    "# EST_ID = input(\"Establishment Code: \")\n",
    "\n",
    "# est = driver.find_element_by_id(\"estCode\")\n",
    "# est.clear()\n",
    "# est.send_keys(EST_ID)\n",
    "\n",
    "name_of_establishment = driver.find_element_by_id(\"estName\")\n",
    "name_of_establishment.clear()\n",
    "name_of_establishment.send_keys(COMPANY_NAME)\n",
    "\n",
    "captacha = driver.find_element_by_id(\"captcha\")\n",
    "captacha.clear()\n",
    "captacha_value = input(\" **** Enter Captacha: \")\n",
    "captacha.send_keys(captacha_value)\n",
    "\n",
    "search_button = driver.find_element_by_id(\"searchEmployer\")\n",
    "search_button.click()"
   ]
  },
  {
   "cell_type": "code",
   "execution_count": 17,
   "metadata": {},
   "outputs": [],
   "source": [
    "# extract captcha image\n",
    "captcha_image = driver.find_element(\"xpath\",'//*[@id=\"capImg\"]')\n",
    "cap = captcha_image.screenshot(\"captcha.png\")\n",
    "\n",
    "# store captcha image in a variable\n",
    "captcha_image = driver.find_element(\"xpath\",'//*[@id=\"capImg\"]')\n",
    "cap = captcha_image.screenshot_as_png"
   ]
  },
  {
   "cell_type": "code",
   "execution_count": 18,
   "metadata": {},
   "outputs": [],
   "source": [
    "import io\n",
    "from PIL import Image\n",
    "cap = Image.open(io.BytesIO(cap))\n",
    "# display image\n",
    "cap.show()"
   ]
  },
  {
   "cell_type": "code",
   "execution_count": 28,
   "metadata": {},
   "outputs": [],
   "source": [
    "from selenium.webdriver.support.ui import WebDriverWait\n",
    "from selenium.webdriver.support import expected_conditions as EC\n",
    "\n",
    "wait = WebDriverWait(driver, 10)\n",
    "cap = wait.until(EC.visibility_of_element_located((By.XPATH, '//*[@id=\"capImg\"]')))"
   ]
  },
  {
   "cell_type": "code",
   "execution_count": 29,
   "metadata": {},
   "outputs": [],
   "source": [
    "cap = cap.screenshot(\"captcha.png\")"
   ]
  },
  {
   "cell_type": "code",
   "execution_count": 26,
   "metadata": {},
   "outputs": [],
   "source": [
    "workbook = Workbook()\n",
    "worksheet = workbook.active\n",
    "begin = 1\n",
    "date1 = datetime.datetime(2022,6,1)"
   ]
  },
  {
   "cell_type": "code",
   "execution_count": 7,
   "metadata": {},
   "outputs": [],
   "source": [
    "def create_tables(start_val):\n",
    "    html_content = driver.page_source\n",
    "    soup = BeautifulSoup(html_content, 'html.parser')\n",
    "    bold_font = Font(bold=True)\n",
    "\n",
    "    table = soup.select_one('#tablecontainer3 table')\n",
    "    rows = table.find_all('tr')\n",
    "    worksheet.cell(row=start_val,column=1,value=\"Validity Status-\").font = bold_font\n",
    "    for row_index, row in enumerate(rows, start=start_val+1):\n",
    "        columns = row.find_all('td')\n",
    "        for col_index, column in enumerate(columns, start=1):\n",
    "            cell_value = column.get_text()\n",
    "            worksheet.cell(row=row_index, column=col_index, value=cell_value)\n",
    "\n",
    "\n",
    "    table = soup.select_one('#tablecontainer4 table')\n",
    "    rows = table.find_all('tr')\n",
    "    worksheet.cell(row=start_val + 7,column=1,value=\"Establishment Status-\").font = bold_font\n",
    "    for row_index, row in enumerate(rows, start=start_val + 8):\n",
    "        columns = row.find_all('td')\n",
    "        for col_index, column in enumerate(columns, start=1):\n",
    "            cell_value = column.get_text()\n",
    "            worksheet.cell(row=row_index, column=col_index, value=cell_value)\n",
    "\n",
    "    table = soup.select_one('#tablecontainer5 table')\n",
    "    rows = table.find_all('tr')\n",
    "\n",
    "    worksheet.cell(row=start_val + 14,column=1,value=\"Establishment Details-\").font = bold_font\n",
    "    for row_index, row in enumerate(rows, start=start_val + 15):\n",
    "        columns = row.find_all('td')\n",
    "        for col_index, column in enumerate(columns, start=1):\n",
    "            cell_value = column.get_text()\n",
    "            if cell_value == 'VERIFIED':\n",
    "                fill = PatternFill(start_color='00FF00', end_color='00FF00', fill_type='solid')\n",
    "                worksheet.cell(row=row_index, column=col_index).fill = fill\n",
    "            elif cell_value == 'REJECTED':\n",
    "                fill = PatternFill(start_color='FF0000', end_color='FF0000', fill_type='solid')\n",
    "                worksheet.cell(row=row_index, column=col_index).fill = fill\n",
    "            worksheet.cell(row=row_index, column=col_index, value=cell_value)\n",
    "    try:\n",
    "        table = soup.select_one('#tablecontainer12 table')\n",
    "        rows = table.find_all('tr')\n",
    "\n",
    "        worksheet.cell(row=start_val + 26,column=1,value=\"Additional Information-\").font = bold_font\n",
    "        for row_index, row in enumerate(rows, start=start_val + 27):\n",
    "            columns = row.find_all('td')\n",
    "            for col_index, column in enumerate(columns, start=1):\n",
    "                cell_value = column.get_text()\n",
    "                worksheet.cell(row=row_index, column=col_index, value=cell_value)\n",
    "\n",
    "        row_color = 'ADD8E6'\n",
    "        fill = PatternFill(start_color=row_color, end_color=row_color, fill_type='solid')\n",
    "\n",
    "        row_number = start_val + 35\n",
    "        row = worksheet[row_number]\n",
    "\n",
    "        for cell in row:\n",
    "            cell.fill = fill\n",
    "    except (AttributeError, NoSuchElementException):\n",
    "        worksheet.cell(row=start_val + 26,column=1,value=\"No Additional Information\").font = bold_font\n",
    "\n",
    "def payments_table(begin)->int:\n",
    "    html_content = driver.page_source\n",
    "\n",
    "    soup = BeautifulSoup(html_content, 'html.parser')\n",
    "    table = soup.select_one('#table_pop_up')\n",
    "\n",
    "    rows = table.find_all('tr')\n",
    "\n",
    "    for row_index, row in enumerate(rows, start=begin):\n",
    "        columns = row.find_all('td')\n",
    "        for col_index, column in enumerate(columns, start=1):\n",
    "            cell_value = column.get_text()\n",
    "            if col_index == 2:\n",
    "                payment_date = datetime.datetime.strptime(cell_value,'%d-%b-%Y %H:%M:%S')\n",
    "            if col_index == 4:\n",
    "                wage_date = datetime.datetime.strptime(cell_value, '%b-%y')\n",
    "                wage_month = wage_date.month\n",
    "                wage_year = wage_date.year\n",
    "                wage_day = wage_date.day\n",
    "                if  wage_date >=  date1:\n",
    "                    cell_value = wage_date.strftime(\"%b-%y\")\n",
    "                    worksheet.cell(row=row_index, column=col_index, value=cell_value)\n",
    "                    next_month = (wage_month % 12) + 1\n",
    "                    payment_due_date = datetime.datetime(wage_year, next_month, 16)\n",
    "                    if payment_due_date < payment_date:\n",
    "                        worksheet.cell(row=row_index, column=7,value=\"DELAYED\")\n",
    "                    else:\n",
    "                        worksheet.cell(row=row_index, column=7,value=\"-\")\n",
    "                else:\n",
    "                    begin -= 1\n",
    "                    break\n",
    "            worksheet.cell(row=row_index, column=col_index, value=cell_value)\n",
    "        begin += 1\n",
    "    return begin-1\n",
    "\n",
    "def row_count():\n",
    "    # count the number of rows in the table\n",
    "    table = driver.find_element_by_id(\"example\")\n",
    "    rows = table.find_elements(By.TAG_NAME, \"tr\")\n",
    "    print(\"Number of rows in the table: \", len(rows))\n",
    "    return len(rows)\n",
    "\n",
    "def table_click(row):\n",
    "    links = driver.find_elements(\"xpath\", '//*[@id=\"example\"]/tbody/tr['+str(row)+']/td[5]/a')\n",
    "    if links:\n",
    "        links[0].click()\n",
    "\n",
    "def heading(begin):\n",
    "    bold_font = Font(bold=True)\n",
    "    worksheet.cell(row=begin,column=1,value=\"TRRN\").font = bold_font\n",
    "    worksheet.cell(row=begin,column=2,value=\"Date of Credit\").font = bold_font\n",
    "    worksheet.cell(row=begin,column=3,value=\"Amount\").font = bold_font\n",
    "    worksheet.cell(row=begin,column=4,value=\"Wage Month\").font = bold_font\n",
    "    worksheet.cell(row=begin,column=5,value=\"No. of Employees\").font = bold_font\n",
    "    worksheet.cell(row=begin,column=6,value=\"ECR\").font = bold_font\n",
    "    worksheet.cell(row=begin,column=7,value=\"DELAY\").font = bold_font\n",
    "\n",
    "def header_2(begin):\n",
    "    bold_font = Font(bold=True)\n",
    "    worksheet.cell(row=begin,column=1,value=\"E_ID\").font = bold_font\n",
    "    worksheet.cell(row=begin,column=2,value=\"E_Name\").font = bold_font\n",
    "    worksheet.cell(row=begin,column=3,value=\"Address\").font = bold_font\n",
    "    worksheet.cell(row=begin,column=4,value=\"Office Name\").font = bold_font\n"
   ]
  },
  {
   "cell_type": "code",
   "execution_count": 169,
   "metadata": {},
   "outputs": [],
   "source": [
    "driver.switch_to.window(driver.window_handles[0])"
   ]
  },
  {
   "cell_type": "code",
   "execution_count": 20,
   "metadata": {},
   "outputs": [],
   "source": [
    "table_click(1)"
   ]
  },
  {
   "cell_type": "code",
   "execution_count": 64,
   "metadata": {},
   "outputs": [
    {
     "name": "stdout",
     "output_type": "stream",
     "text": [
      "Number of payment pages: 13\n"
     ]
    }
   ],
   "source": [
    "for i in range(1,2):\n",
    "    row_len = 2\n",
    "    for row in range(1, row_len):\n",
    "        table_click(row)\n",
    "        time.sleep(10)\n",
    "        create_tables(begin)\n",
    "        begin = begin + 37\n",
    "        payments_link = driver.find_element(\"xpath\",'//*[@id=\"tablecontainer3\"]/div/a/u')\n",
    "        payments_link.click()\n",
    "        time.sleep(5)\n",
    "\n",
    "        driver.switch_to.window(driver.window_handles[1])\n",
    "        \n",
    "        pages_in_payments_text = driver.find_element(\"xpath\",'//*[@id=\"table_pop_up_info\"]')\n",
    "        pattern = r\"(\\d+)$\"\n",
    "        nos_pages_in_payments = re.search(pattern,pages_in_payments_text.text)\n",
    "\n",
    "        if nos_pages_in_payments:\n",
    "            number_of_pays = nos_pages_in_payments.group(1)\n",
    "            print(\"Number of payment pages:\",number_of_pays)\n",
    "            heading(begin)\n",
    "        for nos in range(1,int(number_of_pays)+1):\n",
    "            begin = payments_table(begin)\n",
    "            row_number = begin + 1\n",
    "            next_button = driver.find_element(\"xpath\",'//*[@id=\"table_pop_up_next\"]')\n",
    "            next_button.click()\n",
    "        row_color = 'ADD8E6'\n",
    "        fill = PatternFill(start_color=row_color, end_color=row_color, fill_type='solid')\n",
    "        row = worksheet[row_number]\n",
    "\n",
    "        for cell in row:\n",
    "            cell.fill = fill\n",
    "        time.sleep(10)\n",
    "        driver.close()\n",
    "        driver.switch_to.window(driver.window_handles[0])\n",
    "        time.sleep(3)\n",
    "        begin = begin + 1"
   ]
  },
  {
   "cell_type": "code",
   "execution_count": 21,
   "metadata": {},
   "outputs": [],
   "source": [
    "same_pan = driver.find_element(\"xpath\",'//*[@id=\"tablecontainer11\"]/div/a')\n",
    "same_pan.click()"
   ]
  },
  {
   "cell_type": "code",
   "execution_count": 22,
   "metadata": {},
   "outputs": [],
   "source": [
    "driver.switch_to.window(driver.window_handles[1])"
   ]
  },
  {
   "cell_type": "code",
   "execution_count": 67,
   "metadata": {},
   "outputs": [],
   "source": [
    "begin +=1\n",
    "header_2(begin)"
   ]
  },
  {
   "cell_type": "code",
   "execution_count": 11,
   "metadata": {},
   "outputs": [],
   "source": [
    "def same_pan_company(start_val)->int:\n",
    "    html_content = driver.page_source\n",
    "    soup = BeautifulSoup(html_content, 'html.parser')\n",
    "    table = soup.select_one('#table_pop_up_wrapper table')\n",
    "\n",
    "    rows = table.find_all('tr')\n",
    "    \n",
    "    for row_index, row in enumerate(rows, start=start_val):\n",
    "        columns = row.find_all('td')\n",
    "        for col_index, column in enumerate(columns, start=1):\n",
    "            cell_value = column.get_text()\n",
    "            worksheet.cell(row=row_index, column=col_index, value=cell_value)\n",
    "        start_val += 1\n",
    "\n",
    "    return start_val"
   ]
  },
  {
   "cell_type": "code",
   "execution_count": 69,
   "metadata": {},
   "outputs": [],
   "source": [
    "begin -=1"
   ]
  },
  {
   "cell_type": "code",
   "execution_count": 70,
   "metadata": {},
   "outputs": [],
   "source": [
    "begin = same_pan_company(begin)"
   ]
  },
  {
   "cell_type": "code",
   "execution_count": 71,
   "metadata": {},
   "outputs": [],
   "source": [
    "workbook.save(filename=COMPANY_NAME + '1.xlsx')"
   ]
  },
  {
   "cell_type": "code",
   "execution_count": 12,
   "metadata": {},
   "outputs": [],
   "source": [
    "def create_tables_2(start_val):\n",
    "    html_content = driver.page_source\n",
    "    soup = BeautifulSoup(html_content, 'html.parser')\n",
    "    bold_font = Font(bold=True)\n",
    "\n",
    "    table = soup.select_one('#tbPopUp_3 table')\n",
    "    rows = table.find_all('tr')\n",
    "    worksheet.cell(row=start_val,column=1,value=\"Validity Status-\").font = bold_font\n",
    "    for row_index, row in enumerate(rows, start=start_val+1):\n",
    "        columns = row.find_all('td')\n",
    "        for col_index, column in enumerate(columns, start=1):\n",
    "            cell_value = column.get_text()\n",
    "            worksheet.cell(row=row_index, column=col_index, value=cell_value)\n",
    "\n",
    "\n",
    "    table = soup.select_one('#tbPopUp_4 table')\n",
    "    rows = table.find_all('tr')\n",
    "    worksheet.cell(row=start_val + 7,column=1,value=\"Establishment Status-\").font = bold_font\n",
    "    for row_index, row in enumerate(rows, start=start_val + 8):\n",
    "        columns = row.find_all('td')\n",
    "        for col_index, column in enumerate(columns, start=1):\n",
    "            cell_value = column.get_text()\n",
    "            worksheet.cell(row=row_index, column=col_index, value=cell_value)\n",
    "\n",
    "    table = soup.select_one('#tbPopUp_5 table')\n",
    "    rows = table.find_all('tr')\n",
    "\n",
    "    worksheet.cell(row=start_val + 14,column=1,value=\"Establishment Details-\").font = bold_font\n",
    "    for row_index, row in enumerate(rows, start=start_val + 15):\n",
    "        columns = row.find_all('td')\n",
    "        for col_index, column in enumerate(columns, start=1):\n",
    "            cell_value = column.get_text()\n",
    "            if cell_value == 'VERIFIED':\n",
    "                fill = PatternFill(start_color='00FF00', end_color='00FF00', fill_type='solid')\n",
    "                worksheet.cell(row=row_index, column=col_index).fill = fill\n",
    "            elif cell_value == 'REJECTED':\n",
    "                fill = PatternFill(start_color='FF0000', end_color='FF0000', fill_type='solid')\n",
    "                worksheet.cell(row=row_index, column=col_index).fill = fill\n",
    "            worksheet.cell(row=row_index, column=col_index, value=cell_value)\n",
    "    \n",
    "    try:\n",
    "        table = soup.select_one('#tbPopUp_12 table')\n",
    "        rows = table.find_all('tr')\n",
    "    except AttributeError:\n",
    "        rows = []\n",
    "\n",
    "    worksheet.cell(row=start_val + 26,column=1,value=\"Additional Information-\").font = bold_font\n",
    "    for row_index, row in enumerate(rows, start=start_val + 27):\n",
    "        columns = row.find_all('td')\n",
    "        for col_index, column in enumerate(columns, start=1):\n",
    "            cell_value = column.get_text()\n",
    "            worksheet.cell(row=row_index, column=col_index, value=cell_value)\n",
    "\n",
    "    row_color = 'ADD8E6'\n",
    "    fill = PatternFill(start_color=row_color, end_color=row_color, fill_type='solid')\n",
    "\n",
    "    row_number = start_val + 35\n",
    "    row = worksheet[row_number]\n",
    "\n",
    "    for cell in row:\n",
    "        cell.fill = fill"
   ]
  },
  {
   "cell_type": "code",
   "execution_count": 13,
   "metadata": {},
   "outputs": [],
   "source": [
    "def count_pages()->int:\n",
    "    total_pages = driver.find_element(\"xpath\",'//*[@id=\"table_pop_up_info\"]')\n",
    "    page_count = int(total_pages.text.split()[-1])\n",
    "    print(\"Number of pages:\",page_count)\n",
    "    return page_count\n",
    "\n",
    "def table_click_2(row):\n",
    "    E_ID = driver.find_elements(\"xpath\", '//*[@id=\"table_pop_up\"]/tbody/tr['+str(row)+']/td[1]/a')\n",
    "    if E_ID:\n",
    "        E_ID[0].click()\n",
    "        return True\n",
    "    \n",
    "def row_count_2():\n",
    "    html_content = driver.page_source\n",
    "    soup = BeautifulSoup(html_content, 'html.parser')\n",
    "    table = soup.select_one('#table_pop_up_wrapper table')\n",
    "    rows = table.find_all('tr')\n",
    "    return len(rows)"
   ]
  },
  {
   "cell_type": "code",
   "execution_count": 23,
   "metadata": {},
   "outputs": [
    {
     "name": "stdout",
     "output_type": "stream",
     "text": [
      "Number of pages: 2\n",
      "Number of payment pages: 13\n",
      "Number of payment pages: 13\n",
      "Number of payment pages: 7\n",
      "Number of payment pages: 6\n",
      "Number of payment pages: 10\n",
      "Number of payment pages: 12\n",
      "Number of payment pages: 25\n",
      "Number of payment pages: 9\n",
      "Number of payment pages: 2\n"
     ]
    }
   ],
   "source": [
    "pages = count_pages()\n",
    "for i in range(1,pages):\n",
    "    num_of_rows = row_count_2()\n",
    "    for row in range(1,num_of_rows):\n",
    "        table_click_2(row)\n",
    "        time.sleep(5)\n",
    "        create_tables_2(begin)\n",
    "        begin += 37\n",
    "\n",
    "        payments_link = driver.find_element(\"xpath\",'//*[@id=\"tbPopUp_3\"]/div/a/u')\n",
    "        payments_link.click()\n",
    "        time.sleep(3)\n",
    "\n",
    "        driver.switch_to.window(driver.window_handles[2])\n",
    "        try:\n",
    "            pages_in_payments_text = driver.find_element(\"xpath\",'//*[@id=\"table_pop_up_info\"]')\n",
    "            pattern = r\"(\\d+)$\"\n",
    "            nos_pages_in_payments = re.search(pattern,pages_in_payments_text.text)\n",
    "            if nos_pages_in_payments:\n",
    "                number_of_pays = nos_pages_in_payments.group(1)\n",
    "                print(\"Number of payment pages:\",number_of_pays)\n",
    "                heading(begin)\n",
    "            for nos in range(1,int(number_of_pays)+1):\n",
    "                begin = payments_table(begin)\n",
    "                row_number = begin + 1\n",
    "                next_button = driver.find_element(\"xpath\",'//*[@id=\"table_pop_up_next\"]')\n",
    "                next_button.click()\n",
    "            row_color = 'ADD8E6'\n",
    "            fill = PatternFill(start_color=row_color, end_color=row_color, fill_type='solid')\n",
    "            row = worksheet[row_number]\n",
    "\n",
    "            for cell in row:\n",
    "                cell.fill = fill\n",
    "            driver.close()\n",
    "        except:\n",
    "            driver.close()\n",
    "        driver.switch_to.window(driver.window_handles[1])\n",
    "        # time.sleep(3)\n",
    "        begin += 2\n",
    "        \n",
    "    # next_button = driver.find_element(\"xpath\",'//*[@id=\"table_pop_up_next\"]')\n",
    "    # next.click()\n",
    "    # time.sleep(3)\n",
    "        "
   ]
  },
  {
   "cell_type": "code",
   "execution_count": null,
   "metadata": {},
   "outputs": [],
   "source": [
    "next_button = driver.find_element(\"xpath\",'//*[@id=\"table_pop_up_next\"]')\n",
    "next.click()"
   ]
  },
  {
   "cell_type": "code",
   "execution_count": 67,
   "metadata": {},
   "outputs": [],
   "source": [
    "driver.switch_to.window(driver.window_handles[0])"
   ]
  },
  {
   "cell_type": "code",
   "execution_count": 50,
   "metadata": {},
   "outputs": [
    {
     "name": "stdout",
     "output_type": "stream",
     "text": [
      "Number of payment pages: 31\n"
     ]
    }
   ],
   "source": [
    "driver.switch_to.window(driver.window_handles[1])\n",
    "payments_link = driver.find_element(\"xpath\",'//*[@id=\"tbPopUp_3\"]/div/a/u')\n",
    "payments_link.click()\n",
    "time.sleep(10)\n",
    "\n",
    "driver.switch_to.window(driver.window_handles[2])\n",
    "\n",
    "pages_in_payments_text = driver.find_element(\"xpath\",'//*[@id=\"table_pop_up_info\"]')\n",
    "pattern = r\"(\\d+)$\"\n",
    "nos_pages_in_payments = re.search(pattern,pages_in_payments_text.text)\n",
    "if nos_pages_in_payments:\n",
    "    number_of_pays = nos_pages_in_payments.group(1)\n",
    "    print(\"Number of payment pages:\",number_of_pays)\n",
    "    heading(begin)\n",
    "\n",
    "for nos in range(1,int(number_of_pays)+1):\n",
    "    begin = payments_table(begin)\n",
    "    row_number = begin + 1\n",
    "    next_button = driver.find_element(\"xpath\",'//*[@id=\"table_pop_up_next\"]')\n",
    "    next_button.click()"
   ]
  },
  {
   "cell_type": "code",
   "execution_count": 24,
   "metadata": {},
   "outputs": [],
   "source": [
    "workbook.save(filename=str(COMPANY_NAME)+\"2.xlsx\")"
   ]
  },
  {
   "cell_type": "code",
   "execution_count": 25,
   "metadata": {},
   "outputs": [],
   "source": [
    "from bs4 import BeautifulSoup\n",
    "from openpyxl.styles import Font, PatternFill\n",
    "import re\n",
    "from openpyxl.styles import PatternFill"
   ]
  },
  {
   "cell_type": "code",
   "execution_count": 32,
   "metadata": {},
   "outputs": [],
   "source": [
    "def get_table_rows(soup, table_id):\n",
    "    try:\n",
    "        table = soup.select_one(f'#{table_id} table')\n",
    "        return table.find_all('tr')\n",
    "    except AttributeError:\n",
    "        return []\n",
    "\n",
    "def write_to_worksheet(rows, start_row, start_col, worksheet, highlight_conditions=None):\n",
    "    for row_index, row in enumerate(rows, start=start_row):\n",
    "        columns = row.find_all('td')\n",
    "        for col_index, column in enumerate(columns, start=start_col):\n",
    "            cell_value = column.get_text()\n",
    "            cell = worksheet.cell(row=row_index, column=col_index, value=cell_value)\n",
    "            \n",
    "            if highlight_conditions and cell_value in highlight_conditions:\n",
    "                fill = PatternFill(start_color=highlight_conditions[cell_value], end_color=highlight_conditions[cell_value], fill_type='solid')\n",
    "                cell.fill = fill\n",
    "\n",
    "def create_tables_2(start_val, driver, worksheet):\n",
    "    html_content = driver.page_source\n",
    "    soup = BeautifulSoup(html_content, 'html.parser')\n",
    "    bold_font = Font(bold=True)\n",
    "\n",
    "    table_data = [\n",
    "        {'table_id': 'tbPopUp_3', 'title': 'Validity Status-', 'start_row': start_val},\n",
    "        {'table_id': 'tbPopUp_4', 'title': 'Establishment Status-', 'start_row': start_val + 7},\n",
    "        {'table_id': 'tbPopUp_5', 'title': 'Establishment Details-', 'start_row': start_val + 14, 'highlight_conditions': {'VERIFIED': '00FF00', 'REJECTED': 'FF0000'}},\n",
    "        {'table_id': 'tbPopUp_12', 'title': 'Additional Information-', 'start_row': start_val + 26}\n",
    "    ]\n",
    "\n",
    "    # This will store the last row written to by the function\n",
    "    last_row_written = 0\n",
    "\n",
    "    for table_info in table_data:\n",
    "        rows = get_table_rows(soup, table_info['table_id'])\n",
    "        worksheet.cell(row=table_info['start_row'], column=1, value=table_info['title']).font = bold_font\n",
    "        write_to_worksheet(rows, table_info['start_row'] + 1, 1, worksheet, table_info.get('highlight_conditions'))\n",
    "        \n",
    "        # Update the last row written to, if the current table went beyond the previous one\n",
    "        last_row_written = max(last_row_written, table_info['start_row'] + len(rows))\n",
    "\n",
    "    # Colorize the row after the last table\n",
    "    colorize_row(worksheet[last_row_written + 1], 'ADD8E6')\n",
    "    \n",
    "    # Return the row number after the colorized row\n",
    "    return last_row_written + 2\n",
    "\n",
    "def colorize_row(row, color):\n",
    "    fill = PatternFill(start_color=color, end_color=color, fill_type='solid')\n",
    "    for cell in row:\n",
    "        cell.fill = fill\n"
   ]
  },
  {
   "cell_type": "code",
   "execution_count": 33,
   "metadata": {},
   "outputs": [
    {
     "name": "stdout",
     "output_type": "stream",
     "text": [
      "Number of pages: 2\n",
      "Number of payment pages: 13\n",
      "Number of payment pages: 13\n",
      "Number of payment pages: 7\n",
      "Number of payment pages: 6\n",
      "Number of payment pages: 10\n",
      "Number of payment pages: 12\n",
      "Number of payment pages: 25\n",
      "Number of payment pages: 9\n",
      "Error encountered: Message: no such element: Unable to locate element: {\"method\":\"xpath\",\"selector\":\"//*[@id=\"table_pop_up_info\"]\"}\n",
      "  (Session info: chrome=116.0.5845.111)\n",
      "\n",
      "Number of payment pages: 2\n"
     ]
    }
   ],
   "source": [
    "def get_number_of_payment_pages(driver):\n",
    "    pages_in_payments_text = driver.find_element(\"xpath\",'//*[@id=\"table_pop_up_info\"]')\n",
    "    pattern = r\"(\\d+)$\"\n",
    "    nos_pages_in_payments = re.search(pattern, pages_in_payments_text.text)\n",
    "    return int(nos_pages_in_payments.group(1)) if nos_pages_in_payments else 0\n",
    "\n",
    "def handle_payment_pages(driver, start_row):\n",
    "    number_of_pays = get_number_of_payment_pages(driver)\n",
    "    print(\"Number of payment pages:\", number_of_pays)\n",
    "    heading(start_row)\n",
    "    \n",
    "    for _ in range(number_of_pays):\n",
    "        start_row = payments_table(start_row)\n",
    "        next_button = driver.find_element(\"xpath\", '//*[@id=\"table_pop_up_next\"]')\n",
    "        next_button.click()\n",
    "\n",
    "    colorize_row(worksheet[start_row + 1], 'ADD8E6')\n",
    "\n",
    "def colorize_row(row, color):\n",
    "    fill = PatternFill(start_color=color, end_color=color, fill_type='solid')\n",
    "    for cell in row:\n",
    "        cell.fill = fill\n",
    "\n",
    "def main_process(driver, worksheet, begin, pages):\n",
    "    for i in range(1, pages):\n",
    "        num_of_rows = row_count_2()\n",
    "        for row in range(1, num_of_rows):\n",
    "            table_click_2(row)\n",
    "            time.sleep(5)\n",
    "            create_tables_2(begin,driver,worksheet)\n",
    "            begin += 37\n",
    "\n",
    "            payments_link = driver.find_element(\"xpath\", '//*[@id=\"tbPopUp_3\"]/div/a/u')\n",
    "            payments_link.click()\n",
    "            time.sleep(3)\n",
    "\n",
    "            driver.switch_to.window(driver.window_handles[2])\n",
    "            try:\n",
    "                handle_payment_pages(driver, begin)\n",
    "                driver.close()\n",
    "            except Exception as e:\n",
    "                print(f\"Error encountered: {e}\")\n",
    "                driver.close()\n",
    "\n",
    "            driver.switch_to.window(driver.window_handles[1])\n",
    "            begin += 2\n",
    "\n",
    "pages = count_pages()\n",
    "main_process(driver, worksheet, begin, pages)"
   ]
  },
  {
   "cell_type": "code",
   "execution_count": 34,
   "metadata": {},
   "outputs": [],
   "source": [
    "workbook.save(filename=str(COMPANY_NAME)+\"2.xlsx\")"
   ]
  }
 ],
 "metadata": {
  "kernelspec": {
   "display_name": "base",
   "language": "python",
   "name": "python3"
  },
  "language_info": {
   "codemirror_mode": {
    "name": "ipython",
    "version": 3
   },
   "file_extension": ".py",
   "mimetype": "text/x-python",
   "name": "python",
   "nbconvert_exporter": "python",
   "pygments_lexer": "ipython3",
   "version": "3.9.12"
  },
  "orig_nbformat": 4
 },
 "nbformat": 4,
 "nbformat_minor": 2
}
