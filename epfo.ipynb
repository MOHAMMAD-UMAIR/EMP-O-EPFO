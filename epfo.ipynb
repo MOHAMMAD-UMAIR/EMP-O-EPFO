{
 "cells": [
  {
   "cell_type": "code",
   "execution_count": 78,
   "metadata": {},
   "outputs": [],
   "source": [
    "from selenium import webdriver\n",
    "from selenium.webdriver.common.by import By\n",
    "from selenium.webdriver.chrome.options import Options\n",
    "from openpyxl import Workbook\n",
    "from openpyxl import load_workbook\n",
    "from openpyxl.styles import PatternFill\n",
    "from openpyxl.styles import Font\n",
    "from bs4 import BeautifulSoup\n",
    "import time\n",
    "import datetime\n",
    "import re\n",
    "import math"
   ]
  },
  {
   "cell_type": "code",
   "execution_count": 90,
   "metadata": {},
   "outputs": [
    {
     "name": "stdout",
     "output_type": "stream",
     "text": [
      "**** INITIALIZING DRIVER ****\n"
     ]
    }
   ],
   "source": [
    "# Setup driver and fetch website\n",
    "DRIVER_PATH = r\"chromedriver\"\n",
    "DOWNLOAD_PATH = r\"C:\\Users\\Dhruv\\Documents\\EPFO\\downloads\"\n",
    "chrome_options = Options()\n",
    "chrome_options.add_experimental_option(\"prefs\", {\n",
    "    \"download.default_directory\": DOWNLOAD_PATH,\n",
    "    \"download.prompt_for_download\": False,\n",
    "    \"download.directory_upgrade\": True\n",
    "})\n",
    "print(\"**** INITIALIZING DRIVER ****\")\n",
    "driver = webdriver.Chrome(executable_path=DRIVER_PATH,options=chrome_options)\n",
    "url=\"https://unifiedportal-epfo.epfindia.gov.in/publicPortal/no-auth/misReport/home/loadEstSearchHome\"\n",
    "driver.get(url)\n",
    "time.sleep(3)"
   ]
  },
  {
   "cell_type": "code",
   "execution_count": 91,
   "metadata": {},
   "outputs": [],
   "source": [
    "COMPANY_NAME = input(\"Enter company name: \")\n",
    "\n",
    "# EST_ID = input(\"Establishment Code: \")\n",
    "\n",
    "# est = driver.find_element_by_id(\"estCode\")\n",
    "# est.clear()\n",
    "# est.send_keys(EST_ID)\n",
    "\n",
    "name_of_establishment = driver.find_element_by_id(\"estName\")\n",
    "name_of_establishment.clear()\n",
    "name_of_establishment.send_keys(COMPANY_NAME)\n",
    "\n",
    "captacha = driver.find_element_by_id(\"captcha\")\n",
    "captacha.clear()\n",
    "captacha_value = input(\" **** Enter Captacha: \")\n",
    "captacha.send_keys(captacha_value)\n",
    "\n",
    "search_button = driver.find_element_by_id(\"searchEmployer\")\n",
    "search_button.click()"
   ]
  },
  {
   "cell_type": "code",
   "execution_count": 92,
   "metadata": {},
   "outputs": [],
   "source": [
    "def row_count():\n",
    "    # count the number of rows in the table\n",
    "    table = driver.find_element_by_id(\"example\")\n",
    "    rows = table.find_elements(By.TAG_NAME, \"tr\")\n",
    "    print(\"Number of rows in the table: \", len(rows))\n",
    "    return len(rows)"
   ]
  },
  {
   "cell_type": "code",
   "execution_count": 93,
   "metadata": {},
   "outputs": [],
   "source": [
    "def table_click(row):\n",
    "    links = driver.find_elements(\"xpath\", '//*[@id=\"example\"]/tbody/tr['+str(row)+']/td[5]/a')\n",
    "    if links:\n",
    "        links[0].click()"
   ]
  },
  {
   "cell_type": "code",
   "execution_count": 51,
   "metadata": {},
   "outputs": [],
   "source": [
    "import datetime\n",
    "date = datetime.datetime.strptime(\"APR-22\", \"%b-%y\")"
   ]
  },
  {
   "cell_type": "code",
   "execution_count": 83,
   "metadata": {},
   "outputs": [],
   "source": [
    "date1 = datetime.datetime(2022,6,1)"
   ]
  },
  {
   "cell_type": "code",
   "execution_count": 53,
   "metadata": {},
   "outputs": [
    {
     "name": "stdout",
     "output_type": "stream",
     "text": [
      "2022-04-01 00:00:00\n"
     ]
    }
   ],
   "source": [
    "print(date)"
   ]
  },
  {
   "cell_type": "code",
   "execution_count": 49,
   "metadata": {},
   "outputs": [
    {
     "name": "stdout",
     "output_type": "stream",
     "text": [
      "2022-06-01 00:00:00\n"
     ]
    }
   ],
   "source": [
    "print(date1)"
   ]
  },
  {
   "cell_type": "code",
   "execution_count": null,
   "metadata": {},
   "outputs": [],
   "source": [
    "row_len = row_count()\n",
    "\n",
    "for row in range(1, row_len):\n",
    "    table_click(row)\n",
    "    time.sleep(5)\n",
    "    create_tables(begin)\n",
    "    begin = begin + 17\n",
    "    payments_link = driver.find_element(\"xpath\",'//*[@id=\"tablecontainer3\"]/div/a/u')\n",
    "    payments_link.click()\n",
    "    time.sleep(5)\n",
    "\n",
    "    driver.switch_to.window(driver.window_handles[1])\n",
    "    pages_in_payments_text = driver.find_element(\"xpath\",'//*[@id=\"table_pop_up_info\"]')\n",
    "    pattern = r\"(\\d+)$\"\n",
    "\n",
    "    nos_pages_in_payments = re.search(pattern,pages_in_payments_text.text)\n",
    "    if nos_pages_in_payments:\n",
    "        number_of_pays = nos_pages_in_payments.group(1)\n",
    "        print(number_of_pays)\n",
    "    for nos in range(1,int(number_of_pays)+1):\n",
    "        begin = payments_table(begin)\n",
    "        row_number = begin + 1  \n",
    "        next_button = driver.find_element(\"xpath\",'//*[@id=\"table_pop_up_next\"]')\n",
    "        next_button.click()\n",
    "        time.sleep(1)\n",
    "    row_color = '00FF00'\n",
    "    fill = PatternFill(start_color=row_color, end_color=row_color, fill_type='solid')\n",
    "    row = worksheet[row_number]\n",
    "\n",
    "    for cell in row:\n",
    "        cell.fill = fill\n",
    "    time.sleep(5)\n",
    "    driver.switch_to.window(driver.window_handles[0])\n",
    "    time.sleep(2)\n",
    "\n",
    "workbook.save(filename=str(COMPANY_NAME)+\".xlsx\")"
   ]
  },
  {
   "cell_type": "code",
   "execution_count": 69,
   "metadata": {},
   "outputs": [],
   "source": [
    "driver.switch_to.window(driver.window_handles[0])"
   ]
  },
  {
   "cell_type": "code",
   "execution_count": null,
   "metadata": {},
   "outputs": [],
   "source": [
    "driver.close()"
   ]
  },
  {
   "cell_type": "code",
   "execution_count": null,
   "metadata": {},
   "outputs": [],
   "source": [
    "pages_in_payments_text = driver.find_element(\"xpath\",'//*[@id=\"table_pop_up_info\"]')\n",
    "pattern = r\"(\\d+)$\"\n",
    "\n",
    "nos_pages_in_payments = re.search(pattern,pages_in_payments_text.text)\n",
    "\n",
    "if nos_pages_in_payments:\n",
    "    number_of_pays = nos_pages_in_payments.group(1)\n",
    "    print(number_of_pays)"
   ]
  },
  {
   "cell_type": "code",
   "execution_count": null,
   "metadata": {},
   "outputs": [],
   "source": [
    "for nos in range(1,int(number_of_pays)+1):\n",
    "    # payments_table(begin)\n",
    "    begin = begin + 10\n",
    "    next_button = driver.find_element(\"xpath\",'//*[@id=\"table_pop_up_next\"]')\n",
    "    next_button.click()\n",
    "    # time.sleep(2)"
   ]
  },
  {
   "cell_type": "code",
   "execution_count": 6,
   "metadata": {},
   "outputs": [],
   "source": [
    "total_records = driver.find_element(\"xpath\",'//*[@id=\"collapseTwo\"]/div[1]/div')"
   ]
  },
  {
   "cell_type": "code",
   "execution_count": 7,
   "metadata": {},
   "outputs": [
    {
     "name": "stdout",
     "output_type": "stream",
     "text": [
      "11\n"
     ]
    }
   ],
   "source": [
    "pattern = r\"\\d+\"\n",
    "matches = re.findall(pattern , total_records.text)\n",
    "if matches:\n",
    "    number = int(matches[0])\n",
    "    print(number)"
   ]
  },
  {
   "cell_type": "code",
   "execution_count": 94,
   "metadata": {},
   "outputs": [],
   "source": [
    "workbook = Workbook()\n",
    "worksheet = workbook.active\n",
    "begin = 1"
   ]
  },
  {
   "cell_type": "code",
   "execution_count": 54,
   "metadata": {},
   "outputs": [],
   "source": [
    "def payments_table(begin)->int:\n",
    "    html_content = driver.page_source\n",
    "\n",
    "    soup = BeautifulSoup(html_content, 'html.parser')\n",
    "    table = soup.select_one('#table_pop_up')\n",
    "\n",
    "    rows = table.find_all('tr')\n",
    "\n",
    "    for row_index, row in enumerate(rows, start=begin):\n",
    "        columns = row.find_all('td')\n",
    "        for col_index, column in enumerate(columns, start=1):\n",
    "            cell_value = column.get_text()\n",
    "            if col_index == 2:\n",
    "                payment_date = datetime.datetime.strptime(cell_value,'%d-%b-%Y %H:%M:%S')\n",
    "            if col_index == 4:\n",
    "                wage_date = datetime.datetime.strptime(cell_value, '%b-%y')\n",
    "                wage_month = wage_date.month\n",
    "                wage_year = wage_date.year\n",
    "                wage_day = wage_date.day\n",
    "                if  wage_date >=  date1:\n",
    "                    cell_value = wage_date.strftime(\"%b-%y\")\n",
    "                    worksheet.cell(row=row_index, column=col_index, value=cell_value)\n",
    "                    next_month = (wage_month % 12) + 1\n",
    "                    payment_due_date = datetime.datetime(wage_year, next_month, 15)\n",
    "                    if payment_due_date < payment_date:\n",
    "                        worksheet.cell(row=row_index, column=7,value=\"DELAYED\")\n",
    "                    else:\n",
    "                        worksheet.cell(row=row_index, column=7,value=\"-\")\n",
    "                else:\n",
    "                    begin -= 1\n",
    "                    break\n",
    "            worksheet.cell(row=row_index, column=col_index, value=cell_value)\n",
    "        begin += 1\n",
    "    return begin-1"
   ]
  },
  {
   "cell_type": "code",
   "execution_count": 55,
   "metadata": {},
   "outputs": [],
   "source": [
    "def create_tables(start_val):\n",
    "    html_content = driver.page_source\n",
    "    soup = BeautifulSoup(html_content, 'html.parser')\n",
    "    bold_font = Font(bold=True)\n",
    "\n",
    "    table = soup.select_one('#tablecontainer3 table')\n",
    "    rows = table.find_all('tr')\n",
    "    worksheet.cell(row=start_val,column=1,value=\"Validity Status-\").font = bold_font\n",
    "    for row_index, row in enumerate(rows, start=start_val+1):\n",
    "        columns = row.find_all('td')\n",
    "        for col_index, column in enumerate(columns, start=1):\n",
    "            cell_value = column.get_text()\n",
    "            worksheet.cell(row=row_index, column=col_index, value=cell_value)\n",
    "\n",
    "\n",
    "    table = soup.select_one('#tablecontainer4 table')\n",
    "    rows = table.find_all('tr')\n",
    "    worksheet.cell(row=start_val + 6,column=1,value=\"Establishment Status-\").font = bold_font\n",
    "    for row_index, row in enumerate(rows, start=start_val + 7):\n",
    "        columns = row.find_all('td')\n",
    "        for col_index, column in enumerate(columns, start=1):\n",
    "            cell_value = column.get_text()\n",
    "            worksheet.cell(row=row_index, column=col_index, value=cell_value)\n",
    "\n",
    "    table = soup.select_one('#tablecontainer5 table')\n",
    "    rows = table.find_all('tr')\n",
    "\n",
    "    worksheet.cell(row=start_val + 12,column=1,value=\"Establishment Details-\").font = bold_font\n",
    "    for row_index, row in enumerate(rows, start=start_val + 13):\n",
    "        columns = row.find_all('td')\n",
    "        for col_index, column in enumerate(columns, start=1):\n",
    "            cell_value = column.get_text()\n",
    "            if cell_value == 'VERIFIED':\n",
    "                fill = PatternFill(start_color='00FF00', end_color='00FF00', fill_type='solid')\n",
    "                worksheet.cell(row=row_index, column=col_index).fill = fill\n",
    "            elif cell_value == 'REJECTED':\n",
    "                fill = PatternFill(start_color='FF0000', end_color='FF0000', fill_type='solid')\n",
    "                worksheet.cell(row=row_index, column=col_index).fill = fill\n",
    "            worksheet.cell(row=row_index, column=col_index, value=cell_value)\n",
    "    \n",
    "    table = soup.select_one('#tablecontainer12 table')\n",
    "    rows = table.find_all('tr')\n",
    "\n",
    "    worksheet.cell(row=start_val + 23,column=1,value=\"Additional Information-\").font = bold_font\n",
    "    for row_index, row in enumerate(rows, start=start_val + 24):\n",
    "        columns = row.find_all('td')\n",
    "        for col_index, column in enumerate(columns, start=1):\n",
    "            cell_value = column.get_text()\n",
    "            worksheet.cell(row=row_index, column=col_index, value=cell_value)\n",
    "\n",
    "\n",
    "    row_color = 'ADD8E6'\n",
    "    fill = PatternFill(start_color=row_color, end_color=row_color, fill_type='solid')\n",
    "\n",
    "    row_number = start_val + 32\n",
    "    row = worksheet[row_number]\n",
    "\n",
    "    for cell in row:\n",
    "        cell.fill = fill"
   ]
  },
  {
   "cell_type": "code",
   "execution_count": 56,
   "metadata": {},
   "outputs": [],
   "source": [
    "def heading(begin):\n",
    "    bold_font = Font(bold=True)\n",
    "    worksheet.cell(row=begin,column=1,value=\"TRRN\").font = bold_font\n",
    "    worksheet.cell(row=begin,column=2,value=\"Date of Credit\").font = bold_font\n",
    "    worksheet.cell(row=begin,column=3,value=\"Amount\").font = bold_font\n",
    "    worksheet.cell(row=begin,column=4,value=\"Wage Month\").font = bold_font\n",
    "    worksheet.cell(row=begin,column=5,value=\"No. of Employees\").font = bold_font\n",
    "    worksheet.cell(row=begin,column=6,value=\"ECR\").font = bold_font\n",
    "    worksheet.cell(row=begin,column=7,value=\"DELAY\").font = bold_font"
   ]
  },
  {
   "cell_type": "code",
   "execution_count": 85,
   "metadata": {},
   "outputs": [
    {
     "name": "stdout",
     "output_type": "stream",
     "text": [
      "Number of payment pages: 39\n"
     ]
    }
   ],
   "source": [
    "# number = math.ceil(number / 10)\n",
    "# print(number)\n",
    "# for i in range(1,number+1):\n",
    "for i in range(1,2):\n",
    "    row_len = 2\n",
    "    for row in range(1, row_len):\n",
    "        table_click(row)\n",
    "        time.sleep(10)\n",
    "        create_tables(begin)\n",
    "        begin = begin + 33\n",
    "        payments_link = driver.find_element(\"xpath\",'//*[@id=\"tablecontainer3\"]/div/a/u')\n",
    "        payments_link.click()\n",
    "        time.sleep(10)\n",
    "\n",
    "        driver.switch_to.window(driver.window_handles[1])\n",
    "        \n",
    "        pages_in_payments_text = driver.find_element(\"xpath\",'//*[@id=\"table_pop_up_info\"]')\n",
    "        pattern = r\"(\\d+)$\"\n",
    "        nos_pages_in_payments = re.search(pattern,pages_in_payments_text.text)\n",
    "\n",
    "        if nos_pages_in_payments:\n",
    "            number_of_pays = nos_pages_in_payments.group(1)\n",
    "            print(\"Number of payment pages:\",number_of_pays)\n",
    "            heading(begin)\n",
    "        for nos in range(1,int(number_of_pays)+1):\n",
    "            begin = payments_table(begin)\n",
    "            row_number = begin + 1\n",
    "            next_button = driver.find_element(\"xpath\",'//*[@id=\"table_pop_up_next\"]')\n",
    "            next_button.click()\n",
    "        row_color = 'ADD8E6'\n",
    "        fill = PatternFill(start_color=row_color, end_color=row_color, fill_type='solid')\n",
    "        row = worksheet[row_number]\n",
    "\n",
    "        for cell in row:\n",
    "            cell.fill = fill\n",
    "        time.sleep(10)\n",
    "        driver.close()\n",
    "        driver.switch_to.window(driver.window_handles[0])\n",
    "        time.sleep(3)\n",
    "        begin = begin + 1\n",
    "\n",
    "    # next = driver.find_element(\"xpath\",'//*[@id=\"example_next\"]')\n",
    "    # next.click()\n",
    "    # time.sleep(3)"
   ]
  },
  {
   "cell_type": "code",
   "execution_count": 41,
   "metadata": {},
   "outputs": [],
   "source": [
    "def header_2(begin):\n",
    "    bold_font = Font(bold=True)\n",
    "    worksheet.cell(row=begin,column=1,value=\"E_ID\").font = bold_font\n",
    "    worksheet.cell(row=begin,column=2,value=\"E_Name\").font = bold_font\n",
    "    worksheet.cell(row=begin,column=3,value=\"Address\").font = bold_font\n",
    "    worksheet.cell(row=begin,column=4,value=\"Office Name\").font = bold_font"
   ]
  },
  {
   "cell_type": "code",
   "execution_count": 86,
   "metadata": {},
   "outputs": [],
   "source": [
    "def same_pan_company(start_val)->int:\n",
    "    html_content = driver.page_source\n",
    "    soup = BeautifulSoup(html_content, 'html.parser')\n",
    "    table = soup.select_one('#table_pop_up_wrapper table')\n",
    "\n",
    "    rows = table.find_all('tr')\n",
    "    \n",
    "    for row_index, row in enumerate(rows, start=start_val):\n",
    "        columns = row.find_all('td')\n",
    "        for col_index, column in enumerate(columns, start=1):\n",
    "            cell_value = column.get_text()\n",
    "            worksheet.cell(row=row_index, column=col_index, value=cell_value)\n",
    "        start_val += 1\n",
    "\n",
    "    return start_val"
   ]
  },
  {
   "cell_type": "code",
   "execution_count": 87,
   "metadata": {},
   "outputs": [],
   "source": [
    "same_pan = driver.find_element(\"xpath\",'//*[@id=\"tablecontainer11\"]/div/a')\n",
    "same_pan.click()\n",
    "time.sleep(5)\n",
    "driver.switch_to.window(driver.window_handles[1])\n",
    "begin +=1 \n",
    "bold_font = Font(bold=True)\n",
    "worksheet.cell(row=begin,column=1,value=\"Establishments with same PAN:\").font = bold_font\n",
    "begin += 1\n",
    "header_2(begin)\n",
    "for i in range(1,3):\n",
    "    begin = same_pan_company(begin)\n",
    "    next_button = driver.find_element(\"xpath\",'//*[@id=\"table_pop_up_next\"]')\n",
    "    next_button.click()"
   ]
  },
  {
   "cell_type": "code",
   "execution_count": 96,
   "metadata": {},
   "outputs": [],
   "source": [
    "driver.switch_to.window(driver.window_handles[1])"
   ]
  },
  {
   "cell_type": "code",
   "execution_count": 97,
   "metadata": {},
   "outputs": [
    {
     "ename": "NoSuchElementException",
     "evalue": "Message: no such element: Unable to locate element: {\"method\":\"xpath\",\"selector\":\"//*[@id=\"table_pop_up_info\"]\"}\n  (Session info: chrome=114.0.5735.110)\n",
     "output_type": "error",
     "traceback": [
      "\u001b[1;31m---------------------------------------------------------------------------\u001b[0m",
      "\u001b[1;31mNoSuchElementException\u001b[0m                    Traceback (most recent call last)",
      "\u001b[1;32mc:\\Users\\Dhruv\\Documents\\EPFO\\epfo.ipynb Cell 26\u001b[0m in \u001b[0;36m<cell line: 1>\u001b[1;34m()\u001b[0m\n\u001b[1;32m----> <a href='vscode-notebook-cell:/c%3A/Users/Dhruv/Documents/EPFO/epfo.ipynb#X66sZmlsZQ%3D%3D?line=0'>1</a>\u001b[0m total_records \u001b[39m=\u001b[39m driver\u001b[39m.\u001b[39;49mfind_element(\u001b[39m\"\u001b[39;49m\u001b[39mxpath\u001b[39;49m\u001b[39m\"\u001b[39;49m,\u001b[39m'\u001b[39;49m\u001b[39m//*[@id=\u001b[39;49m\u001b[39m\"\u001b[39;49m\u001b[39mtable_pop_up_info\u001b[39;49m\u001b[39m\"\u001b[39;49m\u001b[39m]\u001b[39;49m\u001b[39m'\u001b[39;49m)\n\u001b[0;32m      <a href='vscode-notebook-cell:/c%3A/Users/Dhruv/Documents/EPFO/epfo.ipynb#X66sZmlsZQ%3D%3D?line=2'>3</a>\u001b[0m pattern \u001b[39m=\u001b[39m \u001b[39mr\u001b[39m\u001b[39m\"\u001b[39m\u001b[39m\\\u001b[39m\u001b[39md+\u001b[39m\u001b[39m\"\u001b[39m\n\u001b[0;32m      <a href='vscode-notebook-cell:/c%3A/Users/Dhruv/Documents/EPFO/epfo.ipynb#X66sZmlsZQ%3D%3D?line=3'>4</a>\u001b[0m matches \u001b[39m=\u001b[39m re\u001b[39m.\u001b[39mfindall(pattern , total_records\u001b[39m.\u001b[39mtext)\n",
      "File \u001b[1;32mc:\\Users\\Dhruv\\anaconda3\\lib\\site-packages\\selenium\\webdriver\\remote\\webdriver.py:976\u001b[0m, in \u001b[0;36mWebDriver.find_element\u001b[1;34m(self, by, value)\u001b[0m\n\u001b[0;32m    974\u001b[0m         by \u001b[39m=\u001b[39m By\u001b[39m.\u001b[39mCSS_SELECTOR\n\u001b[0;32m    975\u001b[0m         value \u001b[39m=\u001b[39m \u001b[39m'\u001b[39m\u001b[39m[name=\u001b[39m\u001b[39m\"\u001b[39m\u001b[39m%s\u001b[39;00m\u001b[39m\"\u001b[39m\u001b[39m]\u001b[39m\u001b[39m'\u001b[39m \u001b[39m%\u001b[39m value\n\u001b[1;32m--> 976\u001b[0m \u001b[39mreturn\u001b[39;00m \u001b[39mself\u001b[39;49m\u001b[39m.\u001b[39;49mexecute(Command\u001b[39m.\u001b[39;49mFIND_ELEMENT, {\n\u001b[0;32m    977\u001b[0m     \u001b[39m'\u001b[39;49m\u001b[39musing\u001b[39;49m\u001b[39m'\u001b[39;49m: by,\n\u001b[0;32m    978\u001b[0m     \u001b[39m'\u001b[39;49m\u001b[39mvalue\u001b[39;49m\u001b[39m'\u001b[39;49m: value})[\u001b[39m'\u001b[39m\u001b[39mvalue\u001b[39m\u001b[39m'\u001b[39m]\n",
      "File \u001b[1;32mc:\\Users\\Dhruv\\anaconda3\\lib\\site-packages\\selenium\\webdriver\\remote\\webdriver.py:321\u001b[0m, in \u001b[0;36mWebDriver.execute\u001b[1;34m(self, driver_command, params)\u001b[0m\n\u001b[0;32m    319\u001b[0m response \u001b[39m=\u001b[39m \u001b[39mself\u001b[39m\u001b[39m.\u001b[39mcommand_executor\u001b[39m.\u001b[39mexecute(driver_command, params)\n\u001b[0;32m    320\u001b[0m \u001b[39mif\u001b[39;00m response:\n\u001b[1;32m--> 321\u001b[0m     \u001b[39mself\u001b[39;49m\u001b[39m.\u001b[39;49merror_handler\u001b[39m.\u001b[39;49mcheck_response(response)\n\u001b[0;32m    322\u001b[0m     response[\u001b[39m'\u001b[39m\u001b[39mvalue\u001b[39m\u001b[39m'\u001b[39m] \u001b[39m=\u001b[39m \u001b[39mself\u001b[39m\u001b[39m.\u001b[39m_unwrap_value(\n\u001b[0;32m    323\u001b[0m         response\u001b[39m.\u001b[39mget(\u001b[39m'\u001b[39m\u001b[39mvalue\u001b[39m\u001b[39m'\u001b[39m, \u001b[39mNone\u001b[39;00m))\n\u001b[0;32m    324\u001b[0m     \u001b[39mreturn\u001b[39;00m response\n",
      "File \u001b[1;32mc:\\Users\\Dhruv\\anaconda3\\lib\\site-packages\\selenium\\webdriver\\remote\\errorhandler.py:242\u001b[0m, in \u001b[0;36mErrorHandler.check_response\u001b[1;34m(self, response)\u001b[0m\n\u001b[0;32m    240\u001b[0m         alert_text \u001b[39m=\u001b[39m value[\u001b[39m'\u001b[39m\u001b[39malert\u001b[39m\u001b[39m'\u001b[39m]\u001b[39m.\u001b[39mget(\u001b[39m'\u001b[39m\u001b[39mtext\u001b[39m\u001b[39m'\u001b[39m)\n\u001b[0;32m    241\u001b[0m     \u001b[39mraise\u001b[39;00m exception_class(message, screen, stacktrace, alert_text)\n\u001b[1;32m--> 242\u001b[0m \u001b[39mraise\u001b[39;00m exception_class(message, screen, stacktrace)\n",
      "\u001b[1;31mNoSuchElementException\u001b[0m: Message: no such element: Unable to locate element: {\"method\":\"xpath\",\"selector\":\"//*[@id=\"table_pop_up_info\"]\"}\n  (Session info: chrome=114.0.5735.110)\n"
     ]
    }
   ],
   "source": [
    "total_records = driver.find_element(\"xpath\",'//*[@id=\"table_pop_up_info\"]')\n",
    "\n",
    "pattern = r\"\\d+\"\n",
    "matches = re.findall(pattern , total_records.text)\n",
    "if matches:\n",
    "    number = int(matches[0])\n",
    "    print(number)"
   ]
  },
  {
   "cell_type": "code",
   "execution_count": null,
   "metadata": {},
   "outputs": [],
   "source": [
    "def table_click_2(row):\n",
    "    E_ID = driver.find_elements(\"xpath\", '//*[@id=\"table_pop_up\"]/tbody/tr['+str(row)+']/td[1]/a')\n",
    "    if E_ID:\n",
    "        E_ID[0].click()\n",
    "        return True"
   ]
  },
  {
   "cell_type": "code",
   "execution_count": null,
   "metadata": {},
   "outputs": [],
   "source": [
    "def row_count_2():\n",
    "    html_content = driver.page_source\n",
    "    soup = BeautifulSoup(html_content, 'html.parser')\n",
    "    table = soup.select_one('#table_pop_up_wrapper table')\n",
    "    rows = table.find_all('tr')\n",
    "    return len(rows)"
   ]
  },
  {
   "cell_type": "code",
   "execution_count": null,
   "metadata": {},
   "outputs": [],
   "source": [
    "try:\n",
    "    wb = load_workbook(r'C:\\Users\\Dhruv\\Documents\\EPFO\\downloads\\Payment Details.xlsx')\n",
    "except Exception as e:\n",
    "    print(f\"error {e}\")"
   ]
  },
  {
   "cell_type": "code",
   "execution_count": 88,
   "metadata": {},
   "outputs": [],
   "source": [
    "workbook.save(filename=str(COMPANY_NAME)+\".xlsx\")"
   ]
  },
  {
   "cell_type": "code",
   "execution_count": null,
   "metadata": {},
   "outputs": [],
   "source": [
    "same_pan = driver.find_element(\"xpath\",'//*[@id=\"tablecontainer11\"]/div/a')\n",
    "same_pan.click()"
   ]
  },
  {
   "cell_type": "code",
   "execution_count": null,
   "metadata": {},
   "outputs": [],
   "source": [
    "html_content = driver.page_source\n",
    "\n",
    "soup = BeautifulSoup(html_content, 'html.parser')\n",
    "table = soup.select_one('#tablecontainer3 table')\n",
    "\n",
    "workbook = Workbook()\n",
    "worksheet = workbook.active\n",
    "\n",
    "rows = table.find_all('tr')\n",
    "\n",
    "for row_index, row in enumerate(rows, start=1):\n",
    "    columns = row.find_all('td')\n",
    "    for col_index, column in enumerate(columns, start=1):\n",
    "        cell_value = column.get_text()\n",
    "        worksheet.cell(row=row_index, column=col_index, value=cell_value)\n",
    "\n",
    "table = soup.select_one('#tablecontainer4 table')\n",
    "\n",
    "rows = table.find_all('tr')\n",
    "\n",
    "for row_index, row in enumerate(rows, start=8):\n",
    "    columns = row.find_all('td')\n",
    "    for col_index, column in enumerate(columns, start=1):\n",
    "        cell_value = column.get_text()\n",
    "        worksheet.cell(row=row_index, column=col_index, value=cell_value)\n",
    "\n",
    "pan_status = driver.find_element(\"xpath\",'//*[@id=\"tablecontainer5\"]/div[2]/table/tbody/tr[2]/td[2]')\n",
    "\n",
    "worksheet.cell(row=14,column=1,value=\"PAN STATUS:\")\n",
    "worksheet.cell(row=14,column=2,value=pan_status.text)\n",
    "\n",
    "workbook.save(filename=\"epfo.xlsx\")"
   ]
  },
  {
   "cell_type": "code",
   "execution_count": null,
   "metadata": {},
   "outputs": [],
   "source": [
    "table_click(1)"
   ]
  },
  {
   "cell_type": "code",
   "execution_count": 34,
   "metadata": {},
   "outputs": [],
   "source": [
    "same_pan = driver.find_element(\"xpath\",'//*[@id=\"tablecontainer11\"]/div/a')\n",
    "same_pan.click()\n",
    "\n",
    "driver.switch_to.window(driver.window_handles[1])"
   ]
  },
  {
   "cell_type": "code",
   "execution_count": null,
   "metadata": {},
   "outputs": [],
   "source": [
    "# E_ID = driver.find_element(\"xpath\",'//*[@id=\"table_pop_up\"]/tbody/tr[1]/td[1]/a')\n",
    "from selenium.common.exceptions import NoSuchElementException\n",
    "try:\n",
    "    element = driver.find_element_by_xpath('//*[@id=\"table_pop_up\"]/tbody/tr[1]/td[1]/a')\n",
    "    # Proceed with further actions on the element\n",
    "    print(element.text)\n",
    "except NoSuchElementException:\n",
    "    # Handle the case when the element is not found\n",
    "    print(\"Element not found\")"
   ]
  },
  {
   "cell_type": "code",
   "execution_count": 38,
   "metadata": {},
   "outputs": [],
   "source": [
    "a=1\n",
    "worksheet.cell = (row=1,column=1,value=\"Establishments with same PAN:\")\n",
    "header_2(0)\n",
    "for i in range(1,3):\n",
    "    same_pan_company(a)\n",
    "    next_button = driver.find_element(\"xpath\",'//*[@id=\"table_pop_up_next\"]')\n",
    "    a += 10\n"
   ]
  },
  {
   "cell_type": "code",
   "execution_count": null,
   "metadata": {},
   "outputs": [],
   "source": [
    "def create_tables_2(start_val):\n",
    "    html_content = driver.page_source\n",
    "\n",
    "    soup = BeautifulSoup(html_content, 'html.parser')\n",
    "    table = soup.select_one('#table_pop_up_wrapper table')\n",
    "\n",
    "    rows = table.find_all('tr')\n",
    "\n",
    "    for row_index, row in enumerate(rows, start=start_val):\n",
    "        columns = row.find_all('td')\n",
    "        for col_index, column in enumerate(columns, start=1):\n",
    "            cell_value = column.get_text()\n",
    "            worksheet.cell(row=row_index, column=col_index, value=cell_value)\n",
    "\n",
    "    table = soup.select_one('//*[@id=\"tbPopUp_4\"]')\n",
    "\n",
    "    rows = table.find_all('tr')\n",
    "\n",
    "    for row_index, row in enumerate(rows, start=start_val + 6):\n",
    "        columns = row.find_all('td')\n",
    "        for col_index, column in enumerate(columns, start=1):\n",
    "            cell_value = column.get_text()\n",
    "            worksheet.cell(row=row_index, column=col_index, value=cell_value)\n",
    "\n",
    "    pan_status = driver.find_element(\"xpath\",'//*[@id=\"tablecontainer5\"]/div[2]/table/tbody/tr[2]/td[2]')\n",
    "\n",
    "    worksheet.cell(row=start_val + 13,column=1,value=\"PAN STATUS:\")\n",
    "    worksheet.cell(row=start_val + 13,column=2,value=pan_status.text)\n",
    "\n",
    "    esic_code = driver.find_element(\"xpath\", '//*[@id=\"tablecontainer12\"]/table/tbody/tr[3]/td[2]')\n",
    "    worksheet.cell(row=start_val + 14,column=1,value=\"ESIC Code:\")\n",
    "    worksheet.cell(row=start_val + 14,column=2,value=esic_code.text)\n",
    "\n",
    "    row_color = '00FF00'\n",
    "    fill = PatternFill(start_color=row_color, end_color=row_color, fill_type='solid')\n",
    "\n",
    "    row_number = start_val + 15\n",
    "    row = worksheet[row_number]\n",
    "\n",
    "    for cell in row:\n",
    "        cell.fill = fill"
   ]
  },
  {
   "cell_type": "code",
   "execution_count": 15,
   "metadata": {},
   "outputs": [
    {
     "data": {
      "text/plain": [
       "<Cell 'Sheet'.B15>"
      ]
     },
     "execution_count": 15,
     "metadata": {},
     "output_type": "execute_result"
    }
   ],
   "source": [
    "html_content = driver.page_source\n",
    "\n",
    "soup = BeautifulSoup(html_content, 'html.parser')\n",
    "table = soup.select_one('#tbPopUp_3')\n",
    "\n",
    "workbook = Workbook()\n",
    "worksheet = workbook.active\n",
    "\n",
    "rows = table.find_all('tr')\n",
    "\n",
    "for row_index, row in enumerate(rows, start=1):\n",
    "    columns = row.find_all('td')\n",
    "    for col_index, column in enumerate(columns, start=1):\n",
    "        cell_value = column.get_text()\n",
    "        worksheet.cell(row=row_index, column=col_index, value=cell_value)\n",
    "\n",
    "table = soup.select_one('#tbPopUp_4')\n",
    "\n",
    "rows = table.find_all('tr')\n",
    "\n",
    "for row_index, row in enumerate(rows, start=8):\n",
    "    columns = row.find_all('td')\n",
    "    for col_index, column in enumerate(columns, start=1):\n",
    "        cell_value = column.get_text()\n",
    "        worksheet.cell(row=row_index, column=col_index, value=cell_value)\n",
    "\n",
    "pan_status = driver.find_element(\"xpath\",'//*[@id=\"tbPopUp_5\"]/div[2]/table/tbody/tr[2]/td[2]')\n",
    "\n",
    "worksheet.cell(row=14,column=1,value=\"PAN STATUS:\")\n",
    "worksheet.cell(row=14,column=2,value=pan_status.text)\n",
    "\n",
    "esic_code = driver.find_element(\"xpath\", '//*[@id=\"tbPopUp_12\"]/table/tbody/tr[3]/td[2]')\n",
    "worksheet.cell(row=15,column=1,value=\"ESIC Code:\")\n",
    "worksheet.cell(row=15,column=2,value=esic_code.text)"
   ]
  },
  {
   "cell_type": "code",
   "execution_count": 40,
   "metadata": {},
   "outputs": [],
   "source": [
    "workbook.save(filename=\"test.xlsx\") "
   ]
  }
 ],
 "metadata": {
  "kernelspec": {
   "display_name": "base",
   "language": "python",
   "name": "python3"
  },
  "language_info": {
   "codemirror_mode": {
    "name": "ipython",
    "version": 3
   },
   "file_extension": ".py",
   "mimetype": "text/x-python",
   "name": "python",
   "nbconvert_exporter": "python",
   "pygments_lexer": "ipython3",
   "version": "3.9.12"
  },
  "orig_nbformat": 4
 },
 "nbformat": 4,
 "nbformat_minor": 2
}
